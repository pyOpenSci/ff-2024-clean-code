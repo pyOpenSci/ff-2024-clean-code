{
 "cells": [
  {
   "cell_type": "markdown",
   "id": "17cf056d-edbf-4e9f-84c3-cc8c2e7f99c5",
   "metadata": {
    "tags": []
   },
   "source": [
    "(clean-code-activity-1)=\n",
    "# Clean, Modular Code: Activity 1\n",
    "\n",
    "Writing clean, modular code takes practice but is a habit worth building. Over time as you incorporate clean code strategies that improve code quality and maintainability, these strategies will become second nature. Writing cleaner code will make your code easier to read, maintain, and share with others. It will also make your work easier for others (and your future self) to use. \n",
    "\n",
    "In this exercise, you'll focus on using three key clean code strategies:\n",
    "\n",
    "1. **Use expressive names**: Assign meaningful names to all variables and functions to make your code more readable. [Learn more about expressive names.](../python-expressive-code.md)\n",
    "2. **Use a Python style guide (PEP8) for consistent syntax**: Adhere to [PEP8 Python code style rules](../python-pep-8.md), including proper spacing and naming conventions, to maintain a consistent and readable codebase.\n",
    "3. **Identify opportunities to make your code DRY (Don't Repeat Yourself)**: In this activity, you will use pseudocode to identify areas where the code can be simplified and made DRY. In the next activity, you will implement DRY best practices using loops and functions. \n",
    "\n",
    "By practicing these strategies, you are well on your way to writing clean, efficient, and maintainable code.\n",
    "\n",
    "## Activity data \n",
    "\n",
    "This activity begins with some code that you \"inherited from a former lab mate\". This code processes [cross-ref](https://www.crossref.org/) citation data for [The Journal of Open Source Software (JOSS)](https://joss.theoj.org/) publications. The data are pulled directly from the crossref API but then modified with specific \"features\" to help you learn better coding practices when completing the activities.\n",
    "\n",
    "## Your goal \n",
    "\n",
    "Your goal is to take the code below and turn it into a script that has the following characteristics:\n",
    "\n",
    "* The code uses clean, expressive naming conventions\n",
    "* The code follows the PEP 8 style guide\n",
    "\n",
    "In this part of the activity, you will create pseudocode to identify:\n",
    "\n",
    "* How the code could be more DRY. Are elements repeated? \n",
    "* How the code could be made more modular.\n",
    "\n",
    "In the next activity, you will modify the code.\n",
    "\n",
    "### If you want to use an LLM to support your learning \n",
    "\n",
    "The cleanup steps discussed above are things a LLM (Large Language Model) like ChatGPT and Anthropic's Claude can help you with. However, remember that LLMs often return wrong or partially wrong answers. This means that if you use LLM's, you must have a keen eye to catch issues in LLM-generated code.\n",
    "\n",
    "If you are using a LLM: \n",
    "\n",
    "* provide it with descriptive, leading prompts that allow it to perform the task better. So you might write:\n",
    "\n",
    "> Make the variable names in the code below more expressive.\n",
    "\n",
    "or\n",
    "\n",
    "> Identify areas of the code below that could be more DRY. Write pseudocode that identifies the processing steps that are repeated in the code.\n",
    "\n",
    ":::{important}  \n",
    "If you use an LLM for this activity, consider adding any odd or incorrect code it returns to our shared workshop document.  \n",
    ":::\n",
    "\n",
    "## Your task\n",
    "\n",
    "The workflow below should open the data stored in the `/data` directory for this activity. The code should run if you have a proper Python environment setup. \n",
    "\n",
    "## Part 1 - evaluate with a partner \n",
    "\n",
    "To begin, look at the code. \n",
    "\n",
    "* Create a list of any issues that you see with it.\n",
    "* What is the code supposed to do?\n",
    "* Does the code run?\n",
    "* What ideas do you have to make it more efficient?"
   ]
  },
  {
   "cell_type": "code",
   "execution_count": 1,
   "id": "8b494b1d-e5a5-425a-a425-18b2b74479d7",
   "metadata": {},
   "outputs": [
    {
     "name": "stdout",
     "output_type": "stream",
     "text": [
      "(17, 7)\n"
     ]
    },
    {
     "data": {
      "text/plain": [
       "(27, 7)"
      ]
     },
     "execution_count": 1,
     "metadata": {},
     "output_type": "execute_result"
    }
   ],
   "source": [
    "import os\n",
    "import numpy as np\n",
    "import json\n",
    "from glob import glob \n",
    "from pathlib import Path\n",
    "import numpy as np\n",
    "\n",
    "path = \"data/part-1-data.json\"\n",
    "\n",
    "with open(path, \"r\") as z:\n",
    "    x = json.load(z)\n",
    "    \n",
    "import pandas as pd\n",
    "a=pd.json_normalize(x)\n",
    "\n",
    "b=['publisher', 'DOI', 'type', 'author','is-referenced-by-count', 'title', 'published.date-parts']\n",
    "df=a.filter(items=b)\n",
    "\n",
    "for i,r in df.iterrows():\n",
    "    l = r[\"published.date-parts\"][0]\n",
    "    df.at[i, 'title'] = df.at[i, 'title'][0]\n",
    "    s = f\"{l[0]}-{l[1]:02d}-{l[2]:02d}\"\n",
    "    d = pd.to_datetime(s, format='%Y-%m-%d')\n",
    "    df.at[i, 'published_date'] = d\n",
    "\n",
    "df.drop(\"published.date-parts\", axis=1, inplace=True) \n",
    "print(df.shape)\n",
    "\n",
    "path=\"data/part-1-datab.json\"\n",
    "\n",
    "with open(path, \"r\") as z:\n",
    "    x=json.load(z)\n",
    "\n",
    "a=pd.json_normalize(x)\n",
    "b=['publisher', 'DOI', 'type', 'author','is-referenced-by-count', 'title', 'published.date-parts']\n",
    "df2=a.filter(items=b)\n",
    "\n",
    "for i, r in df2.iterrows():\n",
    "    l=r[\"published.date-parts\"][0]\n",
    "    df2.at[i, 'title'] = df.at[i, 'title'][0]\n",
    "    s=f\"{l[0]}-{l[1]:02d}-{l[2]:02d}\"\n",
    "    d=pd.to_datetime(s, format='%Y-%m-%d')\n",
    "    df2.at[i, 'published_date']=d\n",
    "\n",
    "df2.drop(\"published.date-parts\", axis=1, inplace=True) \n",
    "df_combined = pd.concat([df, df2], axis=0)\n",
    "df_combined.shape"
   ]
  },
  {
   "cell_type": "markdown",
   "id": "6eb3d055-6543-4a62-ad03-ec7d70f049a7",
   "metadata": {},
   "source": [
    ":::{admonition} Part 2\n",
    ":class: attention\n",
    "\n",
    "Take the code above and clean it up. Make the code:\n",
    "\n",
    "* PEP8 compliant\n",
    "* Add expressive names to make it more readable\n",
    "* Add a docstring to the top of the script to help a user understand what the code does.\n",
    ":::\n",
    "\n",
    ":::{admonition} Part 3\n",
    ":class: attention\n",
    "\n",
    "Evaluate the code to determine whether it could be more DRY. \n",
    "* Create a list of items that you notice are repeated and could be cleaned up in the code\n",
    "* Write pseudocode that describes what the code intends to do step by step \n",
    ":::\n",
    "\n",
    ":::{admonition} On your own 1\n",
    ":class: tip\n",
    "\n",
    "Begin cleaning up the code. In the next activity, we will discuss loops and functions in more detail.\n",
    ":::"
   ]
  }
 ],
 "metadata": {
  "kernelspec": {
   "display_name": "Python 3 (ipykernel)",
   "language": "python",
   "name": "python3"
  },
  "language_info": {
   "codemirror_mode": {
    "name": "ipython",
    "version": 3
   },
   "file_extension": ".py",
   "mimetype": "text/x-python",
   "name": "python",
   "nbconvert_exporter": "python",
   "pygments_lexer": "ipython3",
   "version": "3.11.10"
  }
 },
 "nbformat": 4,
 "nbformat_minor": 5
}
