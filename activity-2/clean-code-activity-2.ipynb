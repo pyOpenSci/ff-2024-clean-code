{
 "cells": [
  {
   "cell_type": "markdown",
   "id": "03bc7dc1-4390-4aed-a331-3abfcbbf3c2c",
   "metadata": {
    "editable": true,
    "slideshow": {
     "slide_type": ""
    },
    "tags": []
   },
   "source": [
    "(activity-2)=\n",
    "# Activity 2 - DRY Code & Functions\n",
    "\n",
    "In [activity 1](../activity-1/clean-code-activity-1), you took some code and made  it cleaner and easier to understand by:\n",
    "\n",
    "* using expressive variable names, \n",
    "* following PEP8 code style guidelines, and\n",
    "* creating pseudocode as a way to create a plan to clean up the code and make it easier to maintain.  \n",
    "\n",
    "In this activity, you will make the code [DRY which stands for Don't Repeat Yourself](../python-dry-modular-code). \n",
    "\n",
    "You can use the script you worked on in Activity 1 here or the cleaned-up script provided below.\n",
    "\n",
    ":::{note}\n",
    "In [activity 3](../activity-3/clean-code-activity-3), you will\n",
    "\n",
    "* Use conditional statements to control if and when code is executed.\n",
    "* Add checks to your code\n",
    ":::"
   ]
  },
  {
   "cell_type": "markdown",
   "id": "f5ba0c5d-36ce-4859-a57a-25e05bf5a0d0",
   "metadata": {
    "editable": true,
    "slideshow": {
     "slide_type": ""
    },
    "tags": []
   },
   "source": [
    "## The clean code strategies \n",
    "\n",
    "In this activity, you will focus on the following clean code strategies:\n",
    "\n",
    "* **Document:** Document what the code does by adding a docstring at the top of the script to help your future self, a future lab member, or another user understand your code's tasks. Use Numpy-style docstrings when possible. \n",
    "* **Modularize** Make your code more modular by adding functions that perform small, repeated tasks. Functions should also have docstrings and expressive names for added readability and usability.\n",
    "* **Use Loops** Eliminate repetition by using loops that will iterate over specific tasks. In this case, you will iterate over processing several files. \n",
    "* **Create dynamic paths:** Dynamic paths ensure that your code will run on other machines regardless of operating system. To achieve this in Python, you can use `os` or `pathlib` to create paths\n",
    "\n",
    "## To begin - identify redundant parts of this code \n",
    "\n",
    "Create pseudocode (or text) describing the process steps represented in the code below. How could the code be organized differently and more efficiently? \n",
    "\n",
    "What tools could make the code more DRY?\n",
    "\n",
    "## Reproducibility: will your code run on other machines?\n",
    "\n",
    "When considering workflow reproducibility, ensuring that your code runs seamlessly across different machines is important. Hard-coded paths (e.g., `data\\part-1-data.json`) can cause errors. For example:\n",
    "\n",
    "* The path `data/part-1-data.json` is a POSIX path, which works on Mac and Linux machines but will fail on Windows because Windows uses backslashes (`\\`) for paths.\n",
    "* Similarly, a path like `data\\part-1-data.json`, written for Windows, will fail on Mac and Linux systems, which expect forward slashes (`/`) in their paths.\n",
    "\n",
    "To avoid these issues, file paths should be constructed dynamically using tools like Python’s `pathlib`. Using `pathlib` will ensure path compatibility across different operating systems by automatically using the correct path format for the system on which your code is running.\n",
    "\n",
    ":::{tip} \n",
    "* “POSIX” refers to a set of standards for maintaining compatibility between operating systems, and Mac systems are POSIX-compliant.\n",
    "* You can also use `os.path.join` to create paths; however, using `pathlib` is a more modern and flexible approach. \n",
    ":::"
   ]
  },
  {
   "cell_type": "code",
   "execution_count": 5,
   "id": "16c1e591-ce61-4a9d-99aa-787d35e09746",
   "metadata": {},
   "outputs": [
    {
     "name": "stdout",
     "output_type": "stream",
     "text": [
      "data/data.json\n"
     ]
    }
   ],
   "source": [
    "import pathlib\n",
    "\n",
    "# Dynamically generate a path so it will be correct on a Windows vs MAC vs Linux machine\n",
    "path = pathlib.Path(\"\") / \"data\" / \"data.json\"\n",
    "print(path)"
   ]
  },
  {
   "cell_type": "code",
   "execution_count": 6,
   "id": "21c1f72d-dfb5-4739-9a74-cc1cb23858e4",
   "metadata": {},
   "outputs": [
    {
     "name": "stdout",
     "output_type": "stream",
     "text": [
      "data/part-1-data.json\n",
      "data/part-1-datab.json\n"
     ]
    }
   ],
   "source": [
    "data_dir = pathlib.Path(\"\") / \"data\"\n",
    "\n",
    "# Use pathlib.path.glob to find all .json files in the 'data' directory\n",
    "json_files = data_dir.glob(\"*.json\")\n",
    "for json_file in json_files:\n",
    "    print(json_file)"
   ]
  },
  {
   "cell_type": "markdown",
   "id": "d0493239-b8a4-49e7-a0b5-3ff11396ac8c",
   "metadata": {
    "editable": true,
    "slideshow": {
     "slide_type": ""
    },
    "tags": []
   },
   "source": [
    "### Applying functions to `pandas.DataFrame` values - `.apply` \n",
    "\n",
    "The `pandas.DataFrame.apply()` function allows you to apply any function to the rows or columns of a `pandas.DataFrame`. You can use it to perform operations on specific column or row values. When using `.apply()`, you can specify whether the function should be applied across columns (`axis=0`, the default) or across rows (`axis=1`).\n",
    "\n",
    "- To apply a function to each row of a `pandas.DataFrame`, use `df.apply(your_function, axis=1)`.\n",
    "- To apply a function to a specific column across all rows, use `df[\"column-name\"].apply(your_function)`.\n",
    "\n",
    "The `.apply()` method in pandas is an efficient way to replace `for` loops for processing row and column values in a `DataFrame`.\n",
    "\n",
    "In this activity, we encourage you to test out using apply as an efficient way to process data in each cell of a `DataFrame`. An example of using `.apply` is below."
   ]
  },
  {
   "cell_type": "code",
   "execution_count": 3,
   "id": "76ccfc43-9458-48c0-bc6c-d3d4ab44e3df",
   "metadata": {},
   "outputs": [
    {
     "data": {
      "text/html": [
       "<div>\n",
       "<style scoped>\n",
       "    .dataframe tbody tr th:only-of-type {\n",
       "        vertical-align: middle;\n",
       "    }\n",
       "\n",
       "    .dataframe tbody tr th {\n",
       "        vertical-align: top;\n",
       "    }\n",
       "\n",
       "    .dataframe thead th {\n",
       "        text-align: right;\n",
       "    }\n",
       "</style>\n",
       "<table border=\"1\" class=\"dataframe\">\n",
       "  <thead>\n",
       "    <tr style=\"text-align: right;\">\n",
       "      <th></th>\n",
       "      <th>A</th>\n",
       "      <th>B</th>\n",
       "      <th>category</th>\n",
       "    </tr>\n",
       "  </thead>\n",
       "  <tbody>\n",
       "    <tr>\n",
       "      <th>0</th>\n",
       "      <td>1</td>\n",
       "      <td>4</td>\n",
       "      <td>low</td>\n",
       "    </tr>\n",
       "    <tr>\n",
       "      <th>1</th>\n",
       "      <td>10</td>\n",
       "      <td>5</td>\n",
       "      <td>low</td>\n",
       "    </tr>\n",
       "    <tr>\n",
       "      <th>2</th>\n",
       "      <td>3</td>\n",
       "      <td>15</td>\n",
       "      <td>high</td>\n",
       "    </tr>\n",
       "  </tbody>\n",
       "</table>\n",
       "</div>"
      ],
      "text/plain": [
       "    A   B category\n",
       "0   1   4      low\n",
       "1  10   5      low\n",
       "2   3  15     high"
      ]
     },
     "execution_count": 3,
     "metadata": {},
     "output_type": "execute_result"
    }
   ],
   "source": [
    "import pandas as pd\n",
    "\n",
    "# Example DataFrame\n",
    "df = pd.DataFrame({\"A\": [1, 10, 3], \"B\": [4, 5, 15]})\n",
    "\n",
    "# Function to categorize the sum of columns \"A\" and \"B\"\n",
    "def categorize_sum(row):\n",
    "    total = row[\"A\"] + row[\"B\"]\n",
    "    if total > 15:\n",
    "        return \"high\"\n",
    "    else:\n",
    "        return \"low\"\n",
    "\n",
    "# Apply the function to each row\n",
    "df[\"category\"] = df.apply(categorize_sum, axis=1)\n",
    "df"
   ]
  },
  {
   "cell_type": "markdown",
   "id": "45c2b00f-6c7f-4a5e-971b-57fe4cbc8f17",
   "metadata": {
    "editable": true,
    "slideshow": {
     "slide_type": ""
    },
    "tags": []
   },
   "source": [
    ":::{admonition} Activity 2: Part 1\n",
    ":class: attention\n",
    "\n",
    "Examine the code in the cell below and do the following: \n",
    "\n",
    "1. Identify what areas of the code are redundant.\n",
    "2. Create pseudocode for the repeated steps; use that pseudocode to clean up the code. Important: Don't skip ahead and write any code yet.\n",
    ":::\n",
    "\n",
    ":::{admonition} Activity 2: Part 2\n",
    ":class: attention\n",
    "\n",
    "When you are happy with your pseudocode, refactor the code. Refactoring means improving your code’s structure and readability without changing its behavior. It makes the code cleaner, more efficient, and easier to maintain.\n",
    "\n",
    "1. Identify sections of the code that could be combined into functions\n",
    "1. When you finish the above, refactor the code so it is cleaner and more modular.\n",
    "\n",
    ":::"
   ]
  },
  {
   "cell_type": "code",
   "execution_count": 1,
   "id": "bc6dfde9-95f6-4765-b321-01047a9e626d",
   "metadata": {
    "editable": true,
    "slideshow": {
     "slide_type": ""
    },
    "tags": []
   },
   "outputs": [
    {
     "name": "stdout",
     "output_type": "stream",
     "text": [
      "(17, 7)\n"
     ]
    },
    {
     "data": {
      "text/plain": [
       "(27, 7)"
      ]
     },
     "execution_count": 1,
     "metadata": {},
     "output_type": "execute_result"
    }
   ],
   "source": [
    "# This is what the code could look like after part 1. In part 2, \n",
    "# you will take this code and make it more DRY.\n",
    "\n",
    "import json\n",
    "from pathlib import Path\n",
    "\n",
    "import pandas as pd\n",
    "\n",
    "# Use pathlib to ensure your code runs on other machines (assuming relative paths)\n",
    "# Should we do this in part 2 or part 1??\n",
    "file_path = Path(\"data\") / \"part-1-data.json\"\n",
    "\n",
    "# Load JSON data\n",
    "with open(file_path, \"r\") as json_file:\n",
    "    json_data = json.load(json_file)\n",
    "\n",
    "# Normalize JSON data into a flat table\n",
    "normalized_data = pd.json_normalize(json_data)\n",
    "\n",
    "# Define columns to keep\n",
    "columns_to_keep = [\n",
    "    \"publisher\",\n",
    "    \"DOI\",\n",
    "    \"type\",\n",
    "    \"author\",\n",
    "    \"is-referenced-by-count\",\n",
    "    \"title\",\n",
    "    \"published.date-parts\",\n",
    "]\n",
    "\n",
    "# Filter the DataFrame by the desired columns\n",
    "papers_df_1 = normalized_data.filter(items=columns_to_keep)\n",
    "\n",
    "# Iterate through each row and extract date and title\n",
    "for index, row in papers_df_1.iterrows():\n",
    "    date_parts = row[\"published.date-parts\"][0]\n",
    "    papers_df_1.at[index, \"title\"] = papers_df_1.at[index, \"title\"][0]\n",
    "\n",
    "    formatted_date = f\"{date_parts[0]}-{date_parts[1]:02d}-{date_parts[2]:02d}\"\n",
    "    published_date = pd.to_datetime(formatted_date, format=\"%Y-%m-%d\")\n",
    "\n",
    "    papers_df_1.at[index, \"published_date\"] = published_date\n",
    "\n",
    "# Drop the original \"published.date-parts\" column\n",
    "papers_df_1.drop(\"published.date-parts\", axis=1, inplace=True)\n",
    "\n",
    "# Print the shape of the first DataFrame\n",
    "print(papers_df_1.shape)\n",
    "\n",
    "# Load and process the second JSON data\n",
    "file_path_b = \"data/part-1-datab.json\"\n",
    "\n",
    "with open(file_path_b, \"r\") as json_file_b:\n",
    "    json_data_b = json.load(json_file_b)\n",
    "\n",
    "normalized_data_b = pd.json_normalize(json_data_b)\n",
    "\n",
    "# Filter the second DataFrame by the same columns\n",
    "papers_df_2 = normalized_data_b.filter(items=columns_to_keep)\n",
    "\n",
    "# Iterate through each row and extract date and title for the second DataFrame\n",
    "for index, row in papers_df_2.iterrows():\n",
    "    date_parts_b = row[\"published.date-parts\"][0]\n",
    "    papers_df_2.at[index, \"title\"] = papers_df_1.at[index, \"title\"][0]\n",
    "\n",
    "    formatted_date_b = (\n",
    "        f\"{date_parts_b[0]}-{date_parts_b[1]:02d}-{date_parts_b[2]:02d}\"\n",
    "    )\n",
    "    published_date_b = pd.to_datetime(formatted_date_b, format=\"%Y-%m-%d\")\n",
    "\n",
    "    papers_df_2.at[index, \"published_date\"] = published_date_b\n",
    "\n",
    "# Drop the original \"published.date-parts\" column from the second DataFrame\n",
    "papers_df_2.drop(\"published.date-parts\", axis=1, inplace=True)\n",
    "\n",
    "# Concatenate the two DataFrames\n",
    "combined_papers_df = pd.concat([papers_df_1, papers_df_2], axis=0)\n",
    "\n",
    "# Print the shape of the combined DataFrame\n",
    "combined_papers_df.shape"
   ]
  },
  {
   "cell_type": "markdown",
   "id": "7a571d88-5f20-4cf1-8080-f6b06cab68cf",
   "metadata": {
    "editable": true,
    "slideshow": {
     "slide_type": ""
    },
    "tags": []
   },
   "source": [
    ":::{admonition} On Your Own 1\n",
    ":class: attention \n",
    "\n",
    "\n",
    "If you complete the above activity with time to spare, here are a few additional tasks you can work on. \n",
    "\n",
    "In the JSON data that you have been processing, the package titles can be found in the title column as follows: `\"package-name: title here.\"` \n",
    "\n",
    "1. Add a processing step to the code that pulls the package name out from the title column and creates a new column called `package-name`.\n",
    "1. Create a workflow that calculates how many packages in that list are pyOpenSci packages. To calculate how many are pyOpenSci packages,   you will need the `pyos-joss-accepted-packages.csv` file in the `data/` directory with the activity 2 JSON data. This .csv file lists all pyOpenSci packages that have also gone through JOSS review.\n",
    ":::"
   ]
  },
  {
   "cell_type": "markdown",
   "id": "4007109d-b82c-42d8-9796-9a3bd4cb3a68",
   "metadata": {
    "editable": true,
    "slideshow": {
     "slide_type": ""
    },
    "tags": []
   },
   "source": [
    "If you still have time, below is another challenge for you to try!"
   ]
  },
  {
   "cell_type": "markdown",
   "id": "ece936b3-e2f2-46c4-b91c-6e9599dc0041",
   "metadata": {
    "editable": true,
    "slideshow": {
     "slide_type": ""
    },
    "tags": []
   },
   "source": [
    ":::{admonition} On Your Own 2\n",
    ":class: attention \n",
    "\n",
    "Create a new workflow that calculates how many packages were submitted to JOSS each month. Add documented functions that process the data. \n",
    "\n",
    ":::"
   ]
  },
  {
   "cell_type": "markdown",
   "id": "999a8aff-8cb5-4a9d-9b50-155346994f73",
   "metadata": {
    "editable": true,
    "slideshow": {
     "slide_type": ""
    },
    "tags": []
   },
   "source": [
    ":::{dropdown} <i class=\"fa-solid fa-eye\"></i> TODOs-- Click to expand dropdown\n",
    "\n",
    "Hidden content\n",
    "\n",
    "* TODO: add drop-downs with answers to each of the OYOs.\n",
    ":::"
   ]
  }
 ],
 "metadata": {
  "kernelspec": {
   "display_name": "Python 3 (ipykernel)",
   "language": "python",
   "name": "python3"
  },
  "language_info": {
   "codemirror_mode": {
    "name": "ipython",
    "version": 3
   },
   "file_extension": ".py",
   "mimetype": "text/x-python",
   "name": "python",
   "nbconvert_exporter": "python",
   "pygments_lexer": "ipython3",
   "version": "3.11.10"
  }
 },
 "nbformat": 4,
 "nbformat_minor": 5
}
